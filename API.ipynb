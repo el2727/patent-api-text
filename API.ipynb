{
 "cells": [
  {
   "cell_type": "markdown",
   "metadata": {},
   "source": [
    "# APIs with Python\n",
    "*Special thanks for Ekaterina Levitskaya (NYU) for her contributions to this notebook.*"
   ]
  },
  {
   "cell_type": "markdown",
   "metadata": {},
   "source": [
    "APIs (application programming interfaces) are hosted on web servers. When you type www.google.com in your browser's address bar, your computer is actually asking the www.google.com server for a webpage, which it then returns to your browser. APIs work much the same way, except instead of your web browser asking for a webpage, your program asks for data. This data is usually returned in JSON format. \n",
    "\n",
    "To retrieve data, we make a request to a webserver. The server then replies with our data. In Python, we'll use the `requests` library to do this.\n",
    "\n"
   ]
  },
  {
   "cell_type": "markdown",
   "metadata": {},
   "source": [
    "### Python Setup"
   ]
  },
  {
   "cell_type": "code",
   "execution_count": 1,
   "metadata": {},
   "outputs": [],
   "source": [
    "# interacting with websites and web-APIs\n",
    "import requests # easy way to interact with web sites and services\n",
    "\n",
    "# data manipulation\n",
    "from datascience import *\n",
    "import numpy as np"
   ]
  },
  {
   "cell_type": "markdown",
   "metadata": {},
   "source": [
    "## Retrieving Patent Data about University of Maryland\n",
    "\n",
    "We will use the `request` package to retrieve information about the patents that have been granted to inventors at University of Maryland, using the PatentsView API. This notebook goes over using the `request` package to get the data, as well as putting that data into a form that is usable. "
   ]
  },
  {
   "cell_type": "markdown",
   "metadata": {},
   "source": [
    "## How does the request package work?"
   ]
  },
  {
   "cell_type": "markdown",
   "metadata": {},
   "source": [
    "We first need to understand what information can be accessed from the API. We use an example of the **PatentsView API** (www.patentsview.org) to make the API call and check the information we get. "
   ]
  },
  {
   "cell_type": "markdown",
   "metadata": {},
   "source": [
    "### About PatentsView API"
   ]
  },
  {
   "cell_type": "markdown",
   "metadata": {},
   "source": [
    "The PatentsView platform is built on data derived from the US Patent and Trademark Office (USPTO) bulk data to link inventors, their organizations, locations, and overall patenting activity. The PatentsView API provides programmatic access to longitudinal data and metadata on patents, inventors, companies, and geographic locations since 1976. \n",
    "\n",
    "To access the API, we use the `request` function. In order to tell Python what to access, we need to specify the url of the API endpoint.\n",
    "\n",
    "PatentsView has several API endpoints. An endpoint is a server route that is used to retrieve different data from the API. You can think of the endpoints as just specifying what types of data you want. Examples of PatentsView API endpoints are shown here: http://www.patentsview.org/api/doc.html\n",
    "\n",
    "Many times, we need to request a key from the data provider in order to access an API. For example, if you wanted to access the Twitter API, then you would need to get a Twitter developer account and access token (see [https://developer.twitter.com/en/docs/basics/authentication/overview/oauth](https://developer.twitter.com/en/docs/basics/authentication/overview/oauth)). Currently no key is necessary to access the PatentsView API. "
   ]
  },
  {
   "cell_type": "markdown",
   "metadata": {},
   "source": [
    "### Making a Request\n",
    "When you ping a website or portal for information this is called making a request. That is exactly what the `requests` library has been designed to do. However, we need to provide a query URL according to the format defined by PatentsView. The details on how to do that is explained [at this link.](https://www.patentsview.org/api/query-language.html)\n",
    "\n",
    "Following the directions detailed in the link above, let's build our first query URL.\n",
    "\n",
    "**Query String Format**\n",
    "\n",
    "The query string is always a single JSON object: **{`<field>`:`<value>`}**, where `<field>` is the name of a database field and `<value>` is the value the field will be compared to for equality (Each API Endpoint section contains a list of the data fields that can be selected for inclusion in output datasets).\n",
    "\n",
    "We use the following base URL for the Patents Endpoint:\n",
    "\n",
    "**Base URL**: `http://www.patentsview.org/api/patents/query?q={criteria}`\n",
    "\n"
   ]
  },
  {
   "cell_type": "markdown",
   "metadata": {},
   "source": [
    "## Task example: Pull patents for University of Maryland\n",
    "\n",
    "In this example, we will only pull patents from one organization: University of Maryland. Let's go to the Patents Endpoint (http://www.patentsview.org/api/patent.html) and find the appropriate field for the organization's name. Based on looking at the APID documentation, we can see that the variable that we need is called `\"assignee_organization\"` (organization name, if assignee is organization).\n",
    "\n",
    "> _Note_: **Assignee**: the name of the entity - company, foundation, partnership, holding company or individual - that owns the patent. In this example we are looking at universities (organization-level).\n",
    "\n",
    "We will pull from the API using a step-by-step process:\n",
    "- Build the query\n",
    "- Get the response\n",
    "- Check the response code\n",
    "- Get the content\n",
    "- Convert to table\n",
    "\n",
    "By the end, we should have data about patents that we can work with using the tools we've already learned."
   ]
  },
  {
   "cell_type": "markdown",
   "metadata": {},
   "source": [
    "### Step 1. Build the URL query \n",
    "\n",
    "Let's build our first URL query by combining the base url with one criterion (name of the `assignee_organization`). This is based on the directions detailed [at this link.](https://www.patentsview.org/api/query-language.html)\n",
    "\n",
    "To build it up, we start with the base url (`http://www.patentsview.org/api/patents/query?q=`) and add the criterion: (`{\"assignee_organization\":university of maryland\"}`)."
   ]
  },
  {
   "cell_type": "code",
   "execution_count": null,
   "metadata": {},
   "outputs": [],
   "source": [
    "url = 'http://www.patentsview.org/api/patents/query?q={\"assignee_organization\":\"university of maryland\"}'"
   ]
  },
  {
   "cell_type": "markdown",
   "metadata": {},
   "source": [
    "### Step 2. Get the response"
   ]
  },
  {
   "cell_type": "markdown",
   "metadata": {},
   "source": [
    "Now let's get the response using the URL defined above, using the `requests` library."
   ]
  },
  {
   "cell_type": "code",
   "execution_count": null,
   "metadata": {},
   "outputs": [],
   "source": [
    "r = requests.get(url)  "
   ]
  },
  {
   "cell_type": "markdown",
   "metadata": {},
   "source": [
    "### Step 3. Check the Response Code\n",
    "\n",
    "Before you can do anything with a website or URL in Python, it’s a good idea to check the current status code of said portal.\n",
    "\n",
    "The following are the response codes for the PatentsView API:\n",
    "\n",
    "`200` - the query parameters are all valid; the results will be in the body of the response\n",
    "\n",
    "`400` - the query parameters are not valid, typically either because they are not in valid JSON format, or a specified field or value is not valid; the “status reason” in the header will contain the error message\n",
    "\n",
    "`500` -  there is an internal error with the processing of the query; the “status reason” in the header will contain the error message"
   ]
  },
  {
   "cell_type": "markdown",
   "metadata": {},
   "source": [
    "Let's check the status of our response "
   ]
  },
  {
   "cell_type": "code",
   "execution_count": null,
   "metadata": {},
   "outputs": [],
   "source": [
    "r.status_code  # Check the status code"
   ]
  },
  {
   "cell_type": "markdown",
   "metadata": {},
   "source": [
    "We are good to go. Now let's get the content."
   ]
  },
  {
   "cell_type": "markdown",
   "metadata": {},
   "source": [
    "### Step 4. Get the Content\n",
    "After a web server returns a response, you can collect the content you need by converting it into a JSON format."
   ]
  },
  {
   "cell_type": "markdown",
   "metadata": {},
   "source": [
    "JSON is a way to encode data structures like lists and dictionaries to strings that ensures that they are easily readable by machines. JSON is the primary format in which data is passed back and forth to APIs, and most API servers will send their responses in JSON format."
   ]
  },
  {
   "cell_type": "code",
   "execution_count": null,
   "metadata": {},
   "outputs": [],
   "source": [
    "json = r.json()  # Convert response to JSON format"
   ]
  },
  {
   "cell_type": "markdown",
   "metadata": {},
   "source": [
    "By default, we get information on `patent_id`, `patent_number`, and `patent_title`. At the end of the JSON you will see how many results are returned (variable `count`) and the total number of patents found (variable `total_patent_count`)."
   ]
  },
  {
   "cell_type": "code",
   "execution_count": null,
   "metadata": {},
   "outputs": [],
   "source": [
    "json  # View JSON"
   ]
  },
  {
   "cell_type": "markdown",
   "metadata": {},
   "source": [
    "There are 1205 patents for University of Maryland, with 25 out of 1205 results returned (we will discuss how to change the number of returned results later in the notebook)."
   ]
  },
  {
   "cell_type": "markdown",
   "metadata": {},
   "source": [
    "We want to be able to use this data, but it's a bit hard to in the current JSON format. We want to essentially take the information that is in the `patents` field within the dictionary and create a Table out of it. To do that, we'll need to take a little detour to introduce a few Python tools that will make our lives much easier."
   ]
  },
  {
   "cell_type": "markdown",
   "metadata": {},
   "source": [
    "### Lists and List Comprehension\n",
    "\n",
    "Python lists are similar to arrays, but have slightly different properties. You can create basic python lists with square brackets and work them similar to arrays."
   ]
  },
  {
   "cell_type": "code",
   "execution_count": null,
   "metadata": {},
   "outputs": [],
   "source": [
    "# Create an empty list\n",
    "empty = []\n",
    "empty"
   ]
  },
  {
   "cell_type": "code",
   "execution_count": null,
   "metadata": {},
   "outputs": [],
   "source": [
    "# Create a list with some numbers\n",
    "nums = [1,2,3,4,5]\n",
    "nums"
   ]
  },
  {
   "cell_type": "code",
   "execution_count": null,
   "metadata": {},
   "outputs": [],
   "source": [
    "nums.append('test')\n",
    "nums"
   ]
  },
  {
   "cell_type": "markdown",
   "metadata": {},
   "source": [
    "#### List Comprehension\n",
    "\n",
    "List comprehension is kind of like a compact `for` loop inside a list. You use it to generate a list of values with certain characteristics. For example, if we wanted to create a list with values from 0 to 9, we could use the following."
   ]
  },
  {
   "cell_type": "code",
   "execution_count": null,
   "metadata": {},
   "outputs": [],
   "source": [
    "[i for i in np.arange(10)]"
   ]
  },
  {
   "cell_type": "markdown",
   "metadata": {},
   "source": [
    "Now, this isn't super interesting, because we could have just used the array itself. But, we can also do slight variations."
   ]
  },
  {
   "cell_type": "code",
   "execution_count": null,
   "metadata": {},
   "outputs": [],
   "source": [
    "[2*i for i in np.arange(10)]"
   ]
  },
  {
   "cell_type": "code",
   "execution_count": null,
   "metadata": {},
   "outputs": [],
   "source": [
    "nums = np.arange(10)\n",
    "[i > 5 for i in nums]"
   ]
  },
  {
   "cell_type": "markdown",
   "metadata": {},
   "source": [
    "### Step 5. Converting JSON into a Table\n",
    "\n",
    "Now let's convert the JSON into a `Table`. To do this, let's first examine how the JSON looks."
   ]
  },
  {
   "cell_type": "code",
   "execution_count": null,
   "metadata": {},
   "outputs": [],
   "source": [
    "type(json)"
   ]
  },
  {
   "cell_type": "code",
   "execution_count": null,
   "metadata": {},
   "outputs": [],
   "source": [
    "json"
   ]
  },
  {
   "cell_type": "markdown",
   "metadata": {},
   "source": [
    "It can be a bit hard to tell, but `json` is a Python dictionary, with three keys: `patents`, `count`, and `total_patent_count`. Let's look at what each one contains."
   ]
  },
  {
   "cell_type": "code",
   "execution_count": null,
   "metadata": {},
   "outputs": [],
   "source": [
    "json['patents']"
   ]
  },
  {
   "cell_type": "code",
   "execution_count": null,
   "metadata": {},
   "outputs": [],
   "source": [
    "json['count']"
   ]
  },
  {
   "cell_type": "code",
   "execution_count": null,
   "metadata": {},
   "outputs": [],
   "source": [
    "json['total_patent_count']"
   ]
  },
  {
   "cell_type": "markdown",
   "metadata": {},
   "source": [
    "The `patents` key has, itself, a list of dictionaries. Each individual dictionary has information about an individual patent, so each element in the list is a patent. The other two are summaries about the patent, showing the count of patents that we pulled, along with the overall number of patents for University of Maryland.\n",
    "\n",
    "Because the patent information is inside a list, we'll need to access information from the `patents` key by iterating through each element of that list and pulling the relevant information from each patent in that list. To do this, we'll use list comprehension."
   ]
  },
  {
   "cell_type": "code",
   "execution_count": null,
   "metadata": {},
   "outputs": [],
   "source": [
    "patent_id = [a['patent_id'] for a in json['patents']]\n",
    "patent_number = [a['patent_number'] for a in json['patents']]\n",
    "patent_title = [a['patent_title'] for a in json['patents']]\n",
    "patents = Table().with_columns('patent_id', patent_id, 'patent_number', patent_number, 'patent_title', patent_title)"
   ]
  },
  {
   "cell_type": "markdown",
   "metadata": {},
   "source": [
    "Above, the `a` represents an individual patent dictionary, which is an element of the list in `json['patents']`. We pull out the individual fields for each patent (`patent_id`, `patent_number`, and `patent_title`, then put them all into a Table. Let's take a look at the table."
   ]
  },
  {
   "cell_type": "code",
   "execution_count": null,
   "metadata": {},
   "outputs": [],
   "source": [
    "patents"
   ]
  },
  {
   "cell_type": "markdown",
   "metadata": {},
   "source": [
    "### <span style=\"color:red\">Checkpoint 1: Pull patent data for another university</span>"
   ]
  },
  {
   "cell_type": "markdown",
   "metadata": {},
   "source": [
    "Now try pulling patent data for Georgetown University:\n",
    "- build a query URL;\n",
    "- make a request;\n",
    "- get the response in JSON format;\n",
    "- note the total number of patents;\n",
    "- convert the JSON to a Table."
   ]
  },
  {
   "cell_type": "code",
   "execution_count": null,
   "metadata": {},
   "outputs": [],
   "source": [
    "\n",
    "\n",
    "\n",
    "\n",
    "\n"
   ]
  },
  {
   "cell_type": "markdown",
   "metadata": {},
   "source": [
    "## Adding to the query other fields of interest"
   ]
  },
  {
   "cell_type": "markdown",
   "metadata": {},
   "source": [
    "Above we were able to pull data with the default information on the patents (`patent_id`, `patent_number`, `patent_title`). \n",
    "\n",
    "What if we want to know about the patent title and patent year?\n",
    "\n",
    "Let's look for those variables in the API Endpoint (http://www.patentsview.org/api/patent.html), and add those fields to our query."
   ]
  },
  {
   "cell_type": "markdown",
   "metadata": {},
   "source": [
    "To the URL created above, we will add the fields parameter: `&f=[\"patent_title\",\"patent_year\"]`"
   ]
  },
  {
   "cell_type": "code",
   "execution_count": null,
   "metadata": {},
   "outputs": [],
   "source": [
    "url = 'http://www.patentsview.org/api/patents/query?q={\"assignee_organization\":\"university of maryland\"}&f=[\"patent_title\",\"patent_year\"]'"
   ]
  },
  {
   "cell_type": "code",
   "execution_count": null,
   "metadata": {},
   "outputs": [],
   "source": [
    "r = requests.get(url)  # Get response from the URL\n",
    "r.status_code  # Check the status code"
   ]
  },
  {
   "cell_type": "code",
   "execution_count": null,
   "metadata": {},
   "outputs": [],
   "source": [
    "json = r.json()  # Convert response to JSON format"
   ]
  },
  {
   "cell_type": "code",
   "execution_count": null,
   "metadata": {},
   "outputs": [],
   "source": [
    "json  # View JSON"
   ]
  },
  {
   "cell_type": "code",
   "execution_count": null,
   "metadata": {},
   "outputs": [],
   "source": [
    "patent_title = [a['patent_title'] for a in json['patents']]\n",
    "patent_year = [a['patent_year'] for a in json['patents']]\n",
    "patents = Table().with_columns('patent_title', patent_title, 'patent_year', patent_year)\n",
    "patents"
   ]
  },
  {
   "cell_type": "markdown",
   "metadata": {},
   "source": [
    "### <span style=\"color:red\">Checkpoint 2: Add other fields</span>"
   ]
  },
  {
   "cell_type": "markdown",
   "metadata": {},
   "source": [
    "Try adding other fields of interest. Go to the Patents Endpoint (http://www.patentsview.org/api/patent.html) and pick other 2 fields of interest to add to the query and get the results."
   ]
  },
  {
   "cell_type": "code",
   "execution_count": null,
   "metadata": {},
   "outputs": [],
   "source": [
    "\n",
    "\n",
    "\n",
    "\n",
    "\n"
   ]
  },
  {
   "cell_type": "markdown",
   "metadata": {},
   "source": [
    "## Customize number of results"
   ]
  },
  {
   "cell_type": "markdown",
   "metadata": {},
   "source": [
    "As you have noticed, by default, only 25 results are returned. To change the number of results returned (for example, 50 results), add the option parameter to the query URL: `&o={\"per_page\":50}`\n"
   ]
  },
  {
   "cell_type": "code",
   "execution_count": null,
   "metadata": {},
   "outputs": [],
   "source": [
    "url = 'http://www.patentsview.org/api/patents/query?q={\"assignee_organization\":\"university of maryland\"}&f=[\"patent_title\",\"patent_year\"]&o={\"per_page\":50}'"
   ]
  },
  {
   "cell_type": "code",
   "execution_count": null,
   "metadata": {},
   "outputs": [],
   "source": [
    "r = requests.get(url)  # Get response from the URL\n",
    "r.status_code  # Check the status code"
   ]
  },
  {
   "cell_type": "code",
   "execution_count": null,
   "metadata": {},
   "outputs": [],
   "source": [
    "json = r.json()  # Convert response to JSON format"
   ]
  },
  {
   "cell_type": "markdown",
   "metadata": {},
   "source": [
    "Now the JSON shows 50 results (as noted in the variable `count` at the bottom of the JSON)"
   ]
  },
  {
   "cell_type": "code",
   "execution_count": null,
   "metadata": {},
   "outputs": [],
   "source": [
    "json"
   ]
  },
  {
   "cell_type": "markdown",
   "metadata": {},
   "source": [
    "### <span style=\"color:red\">Checkpoint 3: Customize the number of results</span>"
   ]
  },
  {
   "cell_type": "markdown",
   "metadata": {},
   "source": [
    "Try customizing the number of returned results using the options parameter. "
   ]
  },
  {
   "cell_type": "code",
   "execution_count": null,
   "metadata": {},
   "outputs": [],
   "source": [
    "\n",
    "\n",
    "\n",
    "\n",
    "\n"
   ]
  },
  {
   "cell_type": "markdown",
   "metadata": {},
   "source": [
    "## Using the Data\n",
    "\n",
    "Now that we've pulled the data, we need to use it somehow. We'll go over more advanced methods with text analysis, but here's an initial look at what types of patents are awarded to University of Maryland."
   ]
  },
  {
   "cell_type": "code",
   "execution_count": 4,
   "metadata": {},
   "outputs": [
    {
     "data": {
      "text/plain": [
       "200"
      ]
     },
     "execution_count": 4,
     "metadata": {},
     "output_type": "execute_result"
    }
   ],
   "source": [
    "base_url = 'http://www.patentsview.org/api/patents/query?q='\n",
    "organization = '{\"assignee_organization\":\"university of maryland\"}'\n",
    "variables = '&f=[\"patent_title\",\"patent_year\", \"patent_type\", \"patent_abstract\"]&o={\"per_page\":100}'\n",
    "\n",
    "url = base_url + organization + variables\n",
    "r = requests.get(url)  # Get response from the URL\n",
    "r.status_code  # Check the status code"
   ]
  },
  {
   "cell_type": "code",
   "execution_count": 5,
   "metadata": {},
   "outputs": [
    {
     "data": {
      "text/html": [
       "<table border=\"1\" class=\"dataframe\">\n",
       "    <thead>\n",
       "        <tr>\n",
       "            <th>patent_title</th> <th>patent_year</th> <th>patent_type</th> <th>patent_abstract</th>\n",
       "        </tr>\n",
       "    </thead>\n",
       "    <tbody>\n",
       "        <tr>\n",
       "            <td>Method for binding site identification by molecular dyna ...</td> <td>2018       </td> <td>utility    </td> <td>The invention describes an explicit solvent all-atom mol ...</td>\n",
       "        </tr>\n",
       "        <tr>\n",
       "            <td>Methods for recovery of leaf proteins                       </td> <td>2018       </td> <td>utility    </td> <td>A novel method for processing soluble plant leaf protein ...</td>\n",
       "        </tr>\n",
       "        <tr>\n",
       "            <td>Bacterial live vector vaccines expressing chromosomally- ...</td> <td>2018       </td> <td>utility    </td> <td>Bacterial live vector vaccines represent a vaccine devel ...</td>\n",
       "        </tr>\n",
       "        <tr>\n",
       "            <td>Systems, methods, and devices for health monitoring of a ...</td> <td>2018       </td> <td>utility    </td> <td>A health monitoring device includes an ultrasound source ...</td>\n",
       "        </tr>\n",
       "        <tr>\n",
       "            <td>Sparse decomposition of head related impulse responses w ...</td> <td>2018       </td> <td>utility    </td> <td>This application describes methods of signal processing  ...</td>\n",
       "        </tr>\n",
       "    </tbody>\n",
       "</table>\n",
       "<p>... (95 rows omitted)</p>"
      ],
      "text/plain": [
       "<IPython.core.display.HTML object>"
      ]
     },
     "metadata": {},
     "output_type": "display_data"
    }
   ],
   "source": [
    "json = r.json()\n",
    "patent_title = [a['patent_title'] for a in json['patents']]\n",
    "patent_year = [a['patent_year'] for a in json['patents']]\n",
    "patent_type = [a['patent_type'] for a in json['patents']]\n",
    "patent_abstract = [a['patent_abstract'] for a in json['patents']]\n",
    "\n",
    "\n",
    "patents = Table().with_columns('patent_title', patent_title,\n",
    "                               'patent_year', patent_year,\n",
    "                              'patent_type', patent_type,\n",
    "                              'patent_abstract', patent_abstract)\n",
    "patents.show(5)"
   ]
  },
  {
   "cell_type": "code",
   "execution_count": null,
   "metadata": {},
   "outputs": [],
   "source": [
    "patents.group('patent_type')"
   ]
  },
  {
   "cell_type": "code",
   "execution_count": null,
   "metadata": {},
   "outputs": [],
   "source": [
    "# Find which titles have \"method\" in them\n",
    "method = [('Method' in a) or ('method' in a) for a in patents.column('patent_title')]\n",
    "\n",
    "# Add to Table, then count\n",
    "patents = patents.with_column('is_method', method)\n",
    "patents.group('is_method')"
   ]
  },
  {
   "cell_type": "markdown",
   "metadata": {},
   "source": [
    "## Optional\n",
    "\n",
    "Please feel free to explore and practice all available options in the API Query Language section of the PatentsView website (http://www.patentsview.org/api/query-language.html)."
   ]
  },
  {
   "cell_type": "code",
   "execution_count": null,
   "metadata": {},
   "outputs": [],
   "source": []
  }
 ],
 "metadata": {
  "hide_input": false,
  "kernelspec": {
   "display_name": "Python 3",
   "language": "python",
   "name": "python3"
  },
  "language_info": {
   "codemirror_mode": {
    "name": "ipython",
    "version": 3
   },
   "file_extension": ".py",
   "mimetype": "text/x-python",
   "name": "python",
   "nbconvert_exporter": "python",
   "pygments_lexer": "ipython3",
   "version": "3.7.3"
  },
  "toc": {
   "base_numbering": 1,
   "nav_menu": {},
   "number_sections": true,
   "sideBar": true,
   "skip_h1_title": true,
   "title_cell": "Table of Contents",
   "title_sidebar": "Contents",
   "toc_cell": true,
   "toc_position": {},
   "toc_section_display": true,
   "toc_window_display": true
  },
  "varInspector": {
   "cols": {
    "lenName": 16,
    "lenType": 16,
    "lenVar": 40
   },
   "kernels_config": {
    "python": {
     "delete_cmd_postfix": "",
     "delete_cmd_prefix": "del ",
     "library": "var_list.py",
     "varRefreshCmd": "print(var_dic_list())"
    },
    "r": {
     "delete_cmd_postfix": ") ",
     "delete_cmd_prefix": "rm(",
     "library": "var_list.r",
     "varRefreshCmd": "cat(var_dic_list()) "
    }
   },
   "types_to_exclude": [
    "module",
    "function",
    "builtin_function_or_method",
    "instance",
    "_Feature"
   ],
   "window_display": true
  }
 },
 "nbformat": 4,
 "nbformat_minor": 4
}
